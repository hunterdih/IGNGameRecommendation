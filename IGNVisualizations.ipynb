{
 "cells": [
  {
   "cell_type": "code",
   "execution_count": 1,
   "id": "initial_id",
   "metadata": {
    "collapsed": true,
    "ExecuteTime": {
     "end_time": "2024-03-30T16:27:59.432433200Z",
     "start_time": "2024-03-30T16:27:56.999329500Z"
    }
   },
   "outputs": [],
   "source": [
    "import numpy as np\n",
    "import pandas as pd\n",
    "import matplotlib.pyplot as plt"
   ]
  },
  {
   "cell_type": "code",
   "outputs": [
    {
     "data": {
      "text/plain": "                           title  score score_phrase       platform     genre  \\\n8767                    Superhot    7.5         Good             PC    Action   \n14884           Hardware: Rivals    5.5     Mediocre  PlayStation 4    Action   \n293    Pro Evolution Soccer 2017    9.5      Amazing       Xbox One    Sports   \n292    Pro Evolution Soccer 2017    9.5      Amazing  PlayStation 4    Sports   \n5637        King of Fighters XIV    8.0        Great  PlayStation 4  Fighting   \n\n       release_year  release_month  release_day  \n8767           2016              2           25  \n14884          2016              1           12  \n293            2016              9           13  \n292            2016              9           13  \n5637           2016              8           24  ",
      "text/html": "<div>\n<style scoped>\n    .dataframe tbody tr th:only-of-type {\n        vertical-align: middle;\n    }\n\n    .dataframe tbody tr th {\n        vertical-align: top;\n    }\n\n    .dataframe thead th {\n        text-align: right;\n    }\n</style>\n<table border=\"1\" class=\"dataframe\">\n  <thead>\n    <tr style=\"text-align: right;\">\n      <th></th>\n      <th>title</th>\n      <th>score</th>\n      <th>score_phrase</th>\n      <th>platform</th>\n      <th>genre</th>\n      <th>release_year</th>\n      <th>release_month</th>\n      <th>release_day</th>\n    </tr>\n  </thead>\n  <tbody>\n    <tr>\n      <th>8767</th>\n      <td>Superhot</td>\n      <td>7.5</td>\n      <td>Good</td>\n      <td>PC</td>\n      <td>Action</td>\n      <td>2016</td>\n      <td>2</td>\n      <td>25</td>\n    </tr>\n    <tr>\n      <th>14884</th>\n      <td>Hardware: Rivals</td>\n      <td>5.5</td>\n      <td>Mediocre</td>\n      <td>PlayStation 4</td>\n      <td>Action</td>\n      <td>2016</td>\n      <td>1</td>\n      <td>12</td>\n    </tr>\n    <tr>\n      <th>293</th>\n      <td>Pro Evolution Soccer 2017</td>\n      <td>9.5</td>\n      <td>Amazing</td>\n      <td>Xbox One</td>\n      <td>Sports</td>\n      <td>2016</td>\n      <td>9</td>\n      <td>13</td>\n    </tr>\n    <tr>\n      <th>292</th>\n      <td>Pro Evolution Soccer 2017</td>\n      <td>9.5</td>\n      <td>Amazing</td>\n      <td>PlayStation 4</td>\n      <td>Sports</td>\n      <td>2016</td>\n      <td>9</td>\n      <td>13</td>\n    </tr>\n    <tr>\n      <th>5637</th>\n      <td>King of Fighters XIV</td>\n      <td>8.0</td>\n      <td>Great</td>\n      <td>PlayStation 4</td>\n      <td>Fighting</td>\n      <td>2016</td>\n      <td>8</td>\n      <td>24</td>\n    </tr>\n  </tbody>\n</table>\n</div>"
     },
     "execution_count": 5,
     "metadata": {},
     "output_type": "execute_result"
    }
   ],
   "source": [
    "dataset = pd.read_csv(fr'Dataset/IGN games from best to worst.csv')\n",
    "dataset = dataset.loc[dataset['release_year'] >= 1996]\n",
    "dataset.sort_values([\"release_year\"], ascending=False).head()"
   ],
   "metadata": {
    "collapsed": false,
    "ExecuteTime": {
     "end_time": "2024-03-30T16:36:38.402669500Z",
     "start_time": "2024-03-30T16:36:38.344798900Z"
    }
   },
   "id": "cfd8e366220e8e",
   "execution_count": 5
  },
  {
   "cell_type": "code",
   "outputs": [],
   "source": [
    "list_average_score_per_year = []\n",
    "\n",
    "for year in range(1996, )"
   ],
   "metadata": {
    "collapsed": false
   },
   "id": "4e79056ff990b37b"
  }
 ],
 "metadata": {
  "kernelspec": {
   "display_name": "Python 3",
   "language": "python",
   "name": "python3"
  },
  "language_info": {
   "codemirror_mode": {
    "name": "ipython",
    "version": 2
   },
   "file_extension": ".py",
   "mimetype": "text/x-python",
   "name": "python",
   "nbconvert_exporter": "python",
   "pygments_lexer": "ipython2",
   "version": "2.7.6"
  }
 },
 "nbformat": 4,
 "nbformat_minor": 5
}
