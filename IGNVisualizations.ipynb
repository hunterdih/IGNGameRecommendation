{
 "cells": [
  {
   "cell_type": "code",
   "execution_count": 1,
   "id": "initial_id",
   "metadata": {
    "collapsed": true,
    "ExecuteTime": {
     "end_time": "2024-03-30T16:27:59.432433200Z",
     "start_time": "2024-03-30T16:27:56.999329500Z"
    }
   },
   "outputs": [],
   "source": [
    "import numpy as np\n",
    "import pandas as pd\n",
    "import matplotlib.pyplot as plt"
   ]
  },
  {
   "cell_type": "code",
   "outputs": [
    {
     "data": {
      "text/plain": "                 title  score score_phrase        platform              genre  \\\n0       Checkered Flag   10.0  Masterpiece            Lynx             Racing   \n1       Chrono Trigger   10.0  Masterpiece             Wii        Action, RPG   \n2   Dragon Warrior III   10.0  Masterpiece  Game Boy Color                RPG   \n3  Grand Theft Auto IV   10.0  Masterpiece        Xbox 360  Action, Adventure   \n4  Grand Theft Auto IV   10.0  Masterpiece   PlayStation 3  Action, Adventure   \n\n   release_year  release_month  release_day  \n0          1999              7            6  \n1          2011              5           25  \n2          2001              7           20  \n3          2008              4           25  \n4          2008              4           25  ",
      "text/html": "<div>\n<style scoped>\n    .dataframe tbody tr th:only-of-type {\n        vertical-align: middle;\n    }\n\n    .dataframe tbody tr th {\n        vertical-align: top;\n    }\n\n    .dataframe thead th {\n        text-align: right;\n    }\n</style>\n<table border=\"1\" class=\"dataframe\">\n  <thead>\n    <tr style=\"text-align: right;\">\n      <th></th>\n      <th>title</th>\n      <th>score</th>\n      <th>score_phrase</th>\n      <th>platform</th>\n      <th>genre</th>\n      <th>release_year</th>\n      <th>release_month</th>\n      <th>release_day</th>\n    </tr>\n  </thead>\n  <tbody>\n    <tr>\n      <th>0</th>\n      <td>Checkered Flag</td>\n      <td>10.0</td>\n      <td>Masterpiece</td>\n      <td>Lynx</td>\n      <td>Racing</td>\n      <td>1999</td>\n      <td>7</td>\n      <td>6</td>\n    </tr>\n    <tr>\n      <th>1</th>\n      <td>Chrono Trigger</td>\n      <td>10.0</td>\n      <td>Masterpiece</td>\n      <td>Wii</td>\n      <td>Action, RPG</td>\n      <td>2011</td>\n      <td>5</td>\n      <td>25</td>\n    </tr>\n    <tr>\n      <th>2</th>\n      <td>Dragon Warrior III</td>\n      <td>10.0</td>\n      <td>Masterpiece</td>\n      <td>Game Boy Color</td>\n      <td>RPG</td>\n      <td>2001</td>\n      <td>7</td>\n      <td>20</td>\n    </tr>\n    <tr>\n      <th>3</th>\n      <td>Grand Theft Auto IV</td>\n      <td>10.0</td>\n      <td>Masterpiece</td>\n      <td>Xbox 360</td>\n      <td>Action, Adventure</td>\n      <td>2008</td>\n      <td>4</td>\n      <td>25</td>\n    </tr>\n    <tr>\n      <th>4</th>\n      <td>Grand Theft Auto IV</td>\n      <td>10.0</td>\n      <td>Masterpiece</td>\n      <td>PlayStation 3</td>\n      <td>Action, Adventure</td>\n      <td>2008</td>\n      <td>4</td>\n      <td>25</td>\n    </tr>\n  </tbody>\n</table>\n</div>"
     },
     "execution_count": 2,
     "metadata": {},
     "output_type": "execute_result"
    }
   ],
   "source": [
    "dataset = pd.read_csv(fr'Dataset/IGN games from best to worst.csv')\n",
    "dataset.head()"
   ],
   "metadata": {
    "collapsed": false,
    "ExecuteTime": {
     "end_time": "2024-03-30T16:28:56.975382100Z",
     "start_time": "2024-03-30T16:28:56.821805500Z"
    }
   },
   "id": "cfd8e366220e8e",
   "execution_count": 2
  },
  {
   "cell_type": "code",
   "outputs": [],
   "source": [
    "average_score_by_year = "
   ],
   "metadata": {
    "collapsed": false
   },
   "id": "4e79056ff990b37b"
  }
 ],
 "metadata": {
  "kernelspec": {
   "display_name": "Python 3",
   "language": "python",
   "name": "python3"
  },
  "language_info": {
   "codemirror_mode": {
    "name": "ipython",
    "version": 2
   },
   "file_extension": ".py",
   "mimetype": "text/x-python",
   "name": "python",
   "nbconvert_exporter": "python",
   "pygments_lexer": "ipython2",
   "version": "2.7.6"
  }
 },
 "nbformat": 4,
 "nbformat_minor": 5
}
