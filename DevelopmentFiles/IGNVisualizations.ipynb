{
 "cells": [
  {
   "cell_type": "code",
   "execution_count": 64,
   "id": "initial_id",
   "metadata": {
    "collapsed": true,
    "ExecuteTime": {
     "end_time": "2024-03-30T17:24:54.702524400Z",
     "start_time": "2024-03-30T17:24:54.675593500Z"
    }
   },
   "outputs": [],
   "source": [
    "import numpy as np\n",
    "import pandas as pd\n",
    "import matplotlib.pyplot as plt"
   ]
  },
  {
   "cell_type": "code",
   "outputs": [
    {
     "data": {
      "text/plain": "   Unnamed: 0                                    Title  Release Date  \\\n0           0                               Elden Ring  Feb 25, 2022   \n1           1                                    Hades  Dec 10, 2019   \n2           2  The Legend of Zelda: Breath of the Wild  Mar 03, 2017   \n3           3                                Undertale  Sep 15, 2015   \n4           4                            Hollow Knight  Feb 24, 2017   \n\n                                                Team  Rating Times Listed  \\\n0     ['Bandai Namco Entertainment', 'FromSoftware']     4.5         3.9K   \n1                               ['Supergiant Games']     4.3         2.9K   \n2  ['Nintendo', 'Nintendo EPD Production Group No...     4.4         4.3K   \n3                                 ['tobyfox', '8-4']     4.2         3.5K   \n4                                    ['Team Cherry']     4.4           3K   \n\n  Number of Reviews                                             Genres  \\\n0              3.9K                               ['Adventure', 'RPG']   \n1              2.9K           ['Adventure', 'Brawler', 'Indie', 'RPG']   \n2              4.3K                               ['Adventure', 'RPG']   \n3              3.5K  ['Adventure', 'Indie', 'RPG', 'Turn Based Stra...   \n4                3K                 ['Adventure', 'Indie', 'Platform']   \n\n                                             Summary  \\\n0  Elden Ring is a fantasy, action and open world...   \n1  A rogue-lite hack and slash dungeon crawler in...   \n2  The Legend of Zelda: Breath of the Wild is the...   \n3  A small child falls into the Underground, wher...   \n4  A 2D metroidvania with an emphasis on close co...   \n\n                                             Reviews Plays Playing Backlogs  \\\n0  [\"The first playthrough of elden ring is one o...   17K    3.8K     4.6K   \n1  ['convinced this is a roguelike for people who...   21K    3.2K     6.3K   \n2  ['This game is the game (that is not CS:GO) th...   30K    2.5K       5K   \n3  ['soundtrack is tied for #1 with nier automata...   28K     679     4.9K   \n4  [\"this games worldbuilding is incredible, with...   21K    2.4K     8.3K   \n\n  Wishlist  \n0     4.8K  \n1     3.6K  \n2     2.6K  \n3     1.8K  \n4     2.3K  ",
      "text/html": "<div>\n<style scoped>\n    .dataframe tbody tr th:only-of-type {\n        vertical-align: middle;\n    }\n\n    .dataframe tbody tr th {\n        vertical-align: top;\n    }\n\n    .dataframe thead th {\n        text-align: right;\n    }\n</style>\n<table border=\"1\" class=\"dataframe\">\n  <thead>\n    <tr style=\"text-align: right;\">\n      <th></th>\n      <th>Unnamed: 0</th>\n      <th>Title</th>\n      <th>Release Date</th>\n      <th>Team</th>\n      <th>Rating</th>\n      <th>Times Listed</th>\n      <th>Number of Reviews</th>\n      <th>Genres</th>\n      <th>Summary</th>\n      <th>Reviews</th>\n      <th>Plays</th>\n      <th>Playing</th>\n      <th>Backlogs</th>\n      <th>Wishlist</th>\n    </tr>\n  </thead>\n  <tbody>\n    <tr>\n      <th>0</th>\n      <td>0</td>\n      <td>Elden Ring</td>\n      <td>Feb 25, 2022</td>\n      <td>['Bandai Namco Entertainment', 'FromSoftware']</td>\n      <td>4.5</td>\n      <td>3.9K</td>\n      <td>3.9K</td>\n      <td>['Adventure', 'RPG']</td>\n      <td>Elden Ring is a fantasy, action and open world...</td>\n      <td>[\"The first playthrough of elden ring is one o...</td>\n      <td>17K</td>\n      <td>3.8K</td>\n      <td>4.6K</td>\n      <td>4.8K</td>\n    </tr>\n    <tr>\n      <th>1</th>\n      <td>1</td>\n      <td>Hades</td>\n      <td>Dec 10, 2019</td>\n      <td>['Supergiant Games']</td>\n      <td>4.3</td>\n      <td>2.9K</td>\n      <td>2.9K</td>\n      <td>['Adventure', 'Brawler', 'Indie', 'RPG']</td>\n      <td>A rogue-lite hack and slash dungeon crawler in...</td>\n      <td>['convinced this is a roguelike for people who...</td>\n      <td>21K</td>\n      <td>3.2K</td>\n      <td>6.3K</td>\n      <td>3.6K</td>\n    </tr>\n    <tr>\n      <th>2</th>\n      <td>2</td>\n      <td>The Legend of Zelda: Breath of the Wild</td>\n      <td>Mar 03, 2017</td>\n      <td>['Nintendo', 'Nintendo EPD Production Group No...</td>\n      <td>4.4</td>\n      <td>4.3K</td>\n      <td>4.3K</td>\n      <td>['Adventure', 'RPG']</td>\n      <td>The Legend of Zelda: Breath of the Wild is the...</td>\n      <td>['This game is the game (that is not CS:GO) th...</td>\n      <td>30K</td>\n      <td>2.5K</td>\n      <td>5K</td>\n      <td>2.6K</td>\n    </tr>\n    <tr>\n      <th>3</th>\n      <td>3</td>\n      <td>Undertale</td>\n      <td>Sep 15, 2015</td>\n      <td>['tobyfox', '8-4']</td>\n      <td>4.2</td>\n      <td>3.5K</td>\n      <td>3.5K</td>\n      <td>['Adventure', 'Indie', 'RPG', 'Turn Based Stra...</td>\n      <td>A small child falls into the Underground, wher...</td>\n      <td>['soundtrack is tied for #1 with nier automata...</td>\n      <td>28K</td>\n      <td>679</td>\n      <td>4.9K</td>\n      <td>1.8K</td>\n    </tr>\n    <tr>\n      <th>4</th>\n      <td>4</td>\n      <td>Hollow Knight</td>\n      <td>Feb 24, 2017</td>\n      <td>['Team Cherry']</td>\n      <td>4.4</td>\n      <td>3K</td>\n      <td>3K</td>\n      <td>['Adventure', 'Indie', 'Platform']</td>\n      <td>A 2D metroidvania with an emphasis on close co...</td>\n      <td>[\"this games worldbuilding is incredible, with...</td>\n      <td>21K</td>\n      <td>2.4K</td>\n      <td>8.3K</td>\n      <td>2.3K</td>\n    </tr>\n  </tbody>\n</table>\n</div>"
     },
     "execution_count": 65,
     "metadata": {},
     "output_type": "execute_result"
    }
   ],
   "source": [
    "dataset = pd.read_csv(fr'Dataset/games.csv')\n",
    "dataset.head()"
   ],
   "metadata": {
    "collapsed": false,
    "ExecuteTime": {
     "end_time": "2024-03-30T17:24:54.756313400Z",
     "start_time": "2024-03-30T17:24:54.684571Z"
    }
   },
   "id": "cfd8e366220e8e",
   "execution_count": 65
  },
  {
   "cell_type": "code",
   "outputs": [
    {
     "data": {
      "text/plain": "   Unnamed: 0                                    Title  Release Date  \\\n0           0                               Elden Ring  Feb 25, 2022   \n1           1                                    Hades  Dec 10, 2019   \n2           2  The Legend of Zelda: Breath of the Wild  Mar 03, 2017   \n3           3                                Undertale  Sep 15, 2015   \n4           4                            Hollow Knight  Feb 24, 2017   \n\n                                                Team  Rating Times Listed  \\\n0     ['Bandai Namco Entertainment', 'FromSoftware']     4.5         3.9K   \n1                               ['Supergiant Games']     4.3         2.9K   \n2  ['Nintendo', 'Nintendo EPD Production Group No...     4.4         4.3K   \n3                                 ['tobyfox', '8-4']     4.2         3.5K   \n4                                    ['Team Cherry']     4.4           3K   \n\n  Number of Reviews                                             Genres  \\\n0              3.9K                               ['Adventure', 'RPG']   \n1              2.9K           ['Adventure', 'Brawler', 'Indie', 'RPG']   \n2              4.3K                               ['Adventure', 'RPG']   \n3              3.5K  ['Adventure', 'Indie', 'RPG', 'Turn Based Stra...   \n4                3K                 ['Adventure', 'Indie', 'Platform']   \n\n                                             Summary  \\\n0  Elden Ring is a fantasy, action and open world...   \n1  A rogue-lite hack and slash dungeon crawler in...   \n2  The Legend of Zelda: Breath of the Wild is the...   \n3  A small child falls into the Underground, wher...   \n4  A 2D metroidvania with an emphasis on close co...   \n\n                                             Reviews Plays Playing Backlogs  \\\n0  [\"The first playthrough of elden ring is one o...   17K    3.8K     4.6K   \n1  ['convinced this is a roguelike for people who...   21K    3.2K     6.3K   \n2  ['This game is the game (that is not CS:GO) th...   30K    2.5K       5K   \n3  ['soundtrack is tied for #1 with nier automata...   28K     679     4.9K   \n4  [\"this games worldbuilding is incredible, with...   21K    2.4K     8.3K   \n\n  Wishlist  release_year  release_month  \n0     4.8K        2022.0            2.0  \n1     3.6K        2019.0           12.0  \n2     2.6K        2017.0            3.0  \n3     1.8K        2015.0            9.0  \n4     2.3K        2017.0            2.0  ",
      "text/html": "<div>\n<style scoped>\n    .dataframe tbody tr th:only-of-type {\n        vertical-align: middle;\n    }\n\n    .dataframe tbody tr th {\n        vertical-align: top;\n    }\n\n    .dataframe thead th {\n        text-align: right;\n    }\n</style>\n<table border=\"1\" class=\"dataframe\">\n  <thead>\n    <tr style=\"text-align: right;\">\n      <th></th>\n      <th>Unnamed: 0</th>\n      <th>Title</th>\n      <th>Release Date</th>\n      <th>Team</th>\n      <th>Rating</th>\n      <th>Times Listed</th>\n      <th>Number of Reviews</th>\n      <th>Genres</th>\n      <th>Summary</th>\n      <th>Reviews</th>\n      <th>Plays</th>\n      <th>Playing</th>\n      <th>Backlogs</th>\n      <th>Wishlist</th>\n      <th>release_year</th>\n      <th>release_month</th>\n    </tr>\n  </thead>\n  <tbody>\n    <tr>\n      <th>0</th>\n      <td>0</td>\n      <td>Elden Ring</td>\n      <td>Feb 25, 2022</td>\n      <td>['Bandai Namco Entertainment', 'FromSoftware']</td>\n      <td>4.5</td>\n      <td>3.9K</td>\n      <td>3.9K</td>\n      <td>['Adventure', 'RPG']</td>\n      <td>Elden Ring is a fantasy, action and open world...</td>\n      <td>[\"The first playthrough of elden ring is one o...</td>\n      <td>17K</td>\n      <td>3.8K</td>\n      <td>4.6K</td>\n      <td>4.8K</td>\n      <td>2022.0</td>\n      <td>2.0</td>\n    </tr>\n    <tr>\n      <th>1</th>\n      <td>1</td>\n      <td>Hades</td>\n      <td>Dec 10, 2019</td>\n      <td>['Supergiant Games']</td>\n      <td>4.3</td>\n      <td>2.9K</td>\n      <td>2.9K</td>\n      <td>['Adventure', 'Brawler', 'Indie', 'RPG']</td>\n      <td>A rogue-lite hack and slash dungeon crawler in...</td>\n      <td>['convinced this is a roguelike for people who...</td>\n      <td>21K</td>\n      <td>3.2K</td>\n      <td>6.3K</td>\n      <td>3.6K</td>\n      <td>2019.0</td>\n      <td>12.0</td>\n    </tr>\n    <tr>\n      <th>2</th>\n      <td>2</td>\n      <td>The Legend of Zelda: Breath of the Wild</td>\n      <td>Mar 03, 2017</td>\n      <td>['Nintendo', 'Nintendo EPD Production Group No...</td>\n      <td>4.4</td>\n      <td>4.3K</td>\n      <td>4.3K</td>\n      <td>['Adventure', 'RPG']</td>\n      <td>The Legend of Zelda: Breath of the Wild is the...</td>\n      <td>['This game is the game (that is not CS:GO) th...</td>\n      <td>30K</td>\n      <td>2.5K</td>\n      <td>5K</td>\n      <td>2.6K</td>\n      <td>2017.0</td>\n      <td>3.0</td>\n    </tr>\n    <tr>\n      <th>3</th>\n      <td>3</td>\n      <td>Undertale</td>\n      <td>Sep 15, 2015</td>\n      <td>['tobyfox', '8-4']</td>\n      <td>4.2</td>\n      <td>3.5K</td>\n      <td>3.5K</td>\n      <td>['Adventure', 'Indie', 'RPG', 'Turn Based Stra...</td>\n      <td>A small child falls into the Underground, wher...</td>\n      <td>['soundtrack is tied for #1 with nier automata...</td>\n      <td>28K</td>\n      <td>679</td>\n      <td>4.9K</td>\n      <td>1.8K</td>\n      <td>2015.0</td>\n      <td>9.0</td>\n    </tr>\n    <tr>\n      <th>4</th>\n      <td>4</td>\n      <td>Hollow Knight</td>\n      <td>Feb 24, 2017</td>\n      <td>['Team Cherry']</td>\n      <td>4.4</td>\n      <td>3K</td>\n      <td>3K</td>\n      <td>['Adventure', 'Indie', 'Platform']</td>\n      <td>A 2D metroidvania with an emphasis on close co...</td>\n      <td>[\"this games worldbuilding is incredible, with...</td>\n      <td>21K</td>\n      <td>2.4K</td>\n      <td>8.3K</td>\n      <td>2.3K</td>\n      <td>2017.0</td>\n      <td>2.0</td>\n    </tr>\n  </tbody>\n</table>\n</div>"
     },
     "execution_count": 66,
     "metadata": {},
     "output_type": "execute_result"
    }
   ],
   "source": [
    "list_average_score_per_year = []\n",
    "month_dict = {'Jan': 1, \n",
    "              'Feb': 2, \n",
    "              'Mar': 3, \n",
    "              'Apr': 4, \n",
    "              'May': 5, \n",
    "              'Jun': 6, \n",
    "              'Jul': 7, \n",
    "              'Aug': 8, \n",
    "              'Sep': 9, \n",
    "              'Oct': 10, \n",
    "              'Nov': 11, \n",
    "              'Dec': 12}\n",
    "def convert_date_to_year(date_string):\n",
    "    if date_string=='releases on TBD':\n",
    "        year = None\n",
    "        return year\n",
    "    split_date = date_string.split(' ')\n",
    "    year = int(split_date[2])\n",
    "    return year\n",
    "\n",
    "def convert_date_to_month(date_string):\n",
    "    if date_string=='releases on TBD':\n",
    "        month = None\n",
    "        return month\n",
    "    split_date = date_string.split(' ')\n",
    "    month = month_dict[split_date[0]]\n",
    "    return month\n",
    "\n",
    "dataset['release_year'] = dataset['Release Date'].apply(convert_date_to_year)\n",
    "dataset['release_month'] = dataset['Release Date'].apply(convert_date_to_month)\n",
    "\n",
    "dataset.head()\n"
   ],
   "metadata": {
    "collapsed": false,
    "ExecuteTime": {
     "end_time": "2024-03-30T17:24:54.816151900Z",
     "start_time": "2024-03-30T17:24:54.773271400Z"
    }
   },
   "id": "4e79056ff990b37b",
   "execution_count": 66
  },
  {
   "cell_type": "code",
   "outputs": [
    {
     "name": "stdout",
     "output_type": "stream",
     "text": [
      "    release_year    Rating\n",
      "0         1980.0  3.400000\n",
      "1         1982.0  3.600000\n",
      "2         1985.0  3.500000\n",
      "3         1986.0  3.275000\n",
      "4         1987.0  2.766667\n",
      "5         1988.0  3.520000\n",
      "6         1989.0  3.880000\n",
      "7         1990.0  3.666667\n",
      "8         1991.0  3.463636\n",
      "9         1992.0  3.466667\n",
      "10        1993.0  3.733333\n",
      "11        1994.0  4.072727\n",
      "12        1995.0  3.808333\n",
      "13        1996.0  3.660000\n",
      "14        1997.0  3.688889\n",
      "15        1998.0  4.106250\n",
      "16        1999.0  3.656000\n",
      "17        2000.0  3.933333\n",
      "18        2001.0  3.756667\n",
      "19        2002.0  3.800000\n",
      "20        2003.0  3.638462\n",
      "21        2004.0  3.883784\n",
      "22        2005.0  3.824390\n",
      "23        2006.0  3.709375\n",
      "24        2007.0  3.656000\n",
      "25        2008.0  3.722727\n",
      "26        2009.0  3.695000\n",
      "27        2010.0  3.758621\n",
      "28        2011.0  3.820000\n",
      "29        2012.0  3.610000\n",
      "30        2013.0  3.555882\n",
      "31        2014.0  3.500000\n",
      "32        2015.0  3.558904\n",
      "33        2016.0  3.696000\n",
      "34        2017.0  3.710000\n",
      "35        2018.0  3.815584\n",
      "36        2019.0  3.843678\n",
      "37        2020.0  3.768919\n",
      "38        2021.0  3.794845\n",
      "39        2022.0  3.731818\n"
     ]
    }
   ],
   "source": [
    "grouped_by_year = dataset.groupby('release_year')\n",
    "\n",
    "sum_rankings = lambda x: np.average(x['Rating'])\n",
    "\n",
    "averaged_year_ratings_grouped_df = grouped_by_year.apply(sum_rankings).to_frame(name='Rating').dropna().reset_index()\n",
    "\n",
    "years = averaged_year_ratings_grouped_df['release_year'].values\n",
    "year_ratings = averaged_year_ratings_grouped_df['Rating'].values\n",
    "\n",
    "print(averaged_year_ratings_grouped_df)\n"
   ],
   "metadata": {
    "collapsed": false,
    "ExecuteTime": {
     "end_time": "2024-03-30T17:24:54.864064100Z",
     "start_time": "2024-03-30T17:24:54.785236500Z"
    }
   },
   "id": "b04e8ac602c9ebf1",
   "execution_count": 67
  },
  {
   "cell_type": "code",
   "outputs": [
    {
     "name": "stdout",
     "output_type": "stream",
     "text": [
      "    release_month    Rating\n",
      "0             1.0  3.761798\n",
      "1             2.0  3.693694\n",
      "2             3.0  3.811679\n",
      "3             4.0  3.742353\n",
      "4             5.0  3.816867\n",
      "5             6.0  3.673077\n",
      "6             7.0  3.758242\n",
      "7             8.0  3.564368\n",
      "8             9.0  3.747619\n",
      "9            10.0  3.705263\n",
      "10           11.0  3.627064\n",
      "11           12.0  3.790179\n"
     ]
    }
   ],
   "source": [
    "grouped_by_month = dataset.dropna().groupby('release_month')\n",
    "\n",
    "sum_rankings = lambda x: np.average(x['Rating'])\n",
    "\n",
    "averaged_month_ratings_grouped_df = grouped_by_month.apply(sum_rankings).to_frame(name='Rating').reset_index()\n",
    "\n",
    "months = averaged_month_ratings_grouped_df['release_month'].values\n",
    "month_ratings = averaged_month_ratings_grouped_df['Rating'].values\n",
    "\n",
    "print(averaged_month_ratings_grouped_df)\n"
   ],
   "metadata": {
    "collapsed": false,
    "ExecuteTime": {
     "end_time": "2024-03-30T17:24:58.195237300Z",
     "start_time": "2024-03-30T17:24:58.180277Z"
    }
   },
   "id": "100adefa7265714d",
   "execution_count": 68
  }
 ],
 "metadata": {
  "kernelspec": {
   "display_name": "Python 3",
   "language": "python",
   "name": "python3"
  },
  "language_info": {
   "codemirror_mode": {
    "name": "ipython",
    "version": 2
   },
   "file_extension": ".py",
   "mimetype": "text/x-python",
   "name": "python",
   "nbconvert_exporter": "python",
   "pygments_lexer": "ipython2",
   "version": "2.7.6"
  }
 },
 "nbformat": 4,
 "nbformat_minor": 5
}
