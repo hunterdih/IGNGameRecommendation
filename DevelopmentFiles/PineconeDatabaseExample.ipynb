{
 "cells": [
  {
   "cell_type": "code",
   "execution_count": 9,
   "id": "initial_id",
   "metadata": {
    "collapsed": true,
    "ExecuteTime": {
     "end_time": "2024-03-31T18:22:32.666148300Z",
     "start_time": "2024-03-31T18:22:32.642212400Z"
    }
   },
   "outputs": [],
   "source": [
    "from pinecone import Pinecone\n",
    "from langchain.document_loaders.csv_loader import CSVLoader\n",
    "from langchain_cohere.embeddings import CohereEmbeddings\n",
    "from langchain_community.vectorstores import FAISS\n",
    "from langchain_text_splitters import  CharacterTextSplitter\n",
    "from langchain_pinecone import PineconeVectorStore\n",
    "from langchain_groq import ChatGroq\n",
    "import os"
   ]
  },
  {
   "cell_type": "markdown",
   "source": [
    "Optional flags and directories"
   ],
   "metadata": {
    "collapsed": false
   },
   "id": "39f9ee5eb1980111"
  },
  {
   "cell_type": "code",
   "outputs": [],
   "source": [
    "LOAD_DATA = False\n",
    "csv_file_path = r'../Dataset/games.csv'"
   ],
   "metadata": {
    "collapsed": false,
    "ExecuteTime": {
     "end_time": "2024-03-31T18:22:32.678131700Z",
     "start_time": "2024-03-31T18:22:32.666148300Z"
    }
   },
   "id": "ac746f6123bdc131",
   "execution_count": 10
  },
  {
   "cell_type": "markdown",
   "source": [
    "Load all API keys and Models needed for embedding/RAG/LLM"
   ],
   "metadata": {
    "collapsed": false
   },
   "id": "7a41909543a7d484"
  },
  {
   "cell_type": "code",
   "outputs": [],
   "source": [
    "pc_api_key = os.getenv('PINECONE_API_KEY')\n",
    "cohere_api_key = os.getenv('COHERE_API_KEY')\n",
    "groq_api_key = os.getenv('GROQ_API_KEY')\n",
    "\n",
    "pc = Pinecone(api_key=pc_api_key)\n",
    "\n",
    "index_name = 'general-index'\n",
    "embed_model_name = 'embed-multilingual-v3.0'\n",
    "\n",
    "embedding_model = CohereEmbeddings(\n",
    "                model=embed_model_name,\n",
    "                cohere_api_key=cohere_api_key\n",
    "            )\n",
    "docsearch = PineconeVectorStore(pinecone_api_key = pc_api_key, embedding = embedding_model, index_name=index_name)\n",
    "\n",
    "text_splitter = CharacterTextSplitter(chunk_size=2000, chunk_overlap=0)\n",
    "\n",
    "csv_loader = CSVLoader(csv_file_path, encoding='utf-8', csv_args={'delimiter': ','})\n"
   ],
   "metadata": {
    "collapsed": false,
    "ExecuteTime": {
     "end_time": "2024-03-31T18:22:33.469001700Z",
     "start_time": "2024-03-31T18:22:32.681116600Z"
    }
   },
   "id": "df454dfc33245227",
   "execution_count": 11
  },
  {
   "cell_type": "markdown",
   "source": [
    "Import dataset from csv and embed"
   ],
   "metadata": {
    "collapsed": false
   },
   "id": "1c664378896558cc"
  },
  {
   "cell_type": "code",
   "outputs": [
    {
     "name": "stdout",
     "output_type": "stream",
     "text": [
      "Data embedded...\n"
     ]
    }
   ],
   "source": [
    "if LOAD_DATA:\n",
    "    documents = csv_loader.load()\n",
    "    docs = text_splitter.split_documents(documents)\n",
    "    docsearch.from_documents(docs, embedding_model, index_name=index_name)\n",
    "    print('Data embedded...')\n",
    "    \n",
    "    \n"
   ],
   "metadata": {
    "collapsed": false,
    "ExecuteTime": {
     "end_time": "2024-03-31T18:11:41.294513Z",
     "start_time": "2024-03-31T18:11:17.832788500Z"
    }
   },
   "id": "745eb3519fc68cff",
   "execution_count": 8
  },
  {
   "cell_type": "markdown",
   "source": [
    "Initialize LLM"
   ],
   "metadata": {
    "collapsed": false
   },
   "id": "d7b7c5ca04889e7d"
  },
  {
   "cell_type": "code",
   "outputs": [],
   "source": [],
   "metadata": {
    "collapsed": false
   },
   "id": "82274020a454b947"
  }
 ],
 "metadata": {
  "kernelspec": {
   "display_name": "Python 3",
   "language": "python",
   "name": "python3"
  },
  "language_info": {
   "codemirror_mode": {
    "name": "ipython",
    "version": 2
   },
   "file_extension": ".py",
   "mimetype": "text/x-python",
   "name": "python",
   "nbconvert_exporter": "python",
   "pygments_lexer": "ipython2",
   "version": "2.7.6"
  }
 },
 "nbformat": 4,
 "nbformat_minor": 5
}
